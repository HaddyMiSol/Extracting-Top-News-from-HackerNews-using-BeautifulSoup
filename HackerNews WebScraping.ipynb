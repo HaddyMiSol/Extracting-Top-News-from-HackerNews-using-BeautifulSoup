{
 "cells": [
  {
   "cell_type": "code",
   "execution_count": 10,
   "id": "a3d5ddb5",
   "metadata": {},
   "outputs": [],
   "source": [
    "import requests \n",
    "\n",
    "from bs4 import BeautifulSoup\n",
    "\n",
    "import smtplib\n",
    "# email body\n",
    "from email.mime.multipart import MIMEMultipart\n",
    "from email.mime.text import MIMEText\n",
    "\n",
    "import datetime\n",
    "\n",
    "now = datetime.datetime.now()\n"
   ]
  },
  {
   "cell_type": "code",
   "execution_count": 8,
   "id": "ec13227c",
   "metadata": {},
   "outputs": [
    {
     "name": "stdout",
     "output_type": "stream",
     "text": [
      "1 :: Deep Learning on Electronic Medical Records is doomed to fail (moderndescartes.com)\n",
      "<br>2 :: Java 18 / JDK 18: General Availability (java.net)\n",
      "<br>3 :: Tolkien's Paintings (tolkienestate.com)\n",
      "<br>4 :: OVHcloud fire: SBG2 data center had no extinguisher, no power cut-out (datacenterdynamics.com)\n",
      "<br>5 :: Facebook approved 8 paid ads inciting violence and genocide against the Rohingya (apnews.com)\n",
      "<br>6 :: Launch HN: Helio Sleep (YC S21) – One-stop portal for sleep apnea (heliosleep.com)\n",
      "<br>7 :: TrueCaller built a billion-dollar caller ID data empire in India (restofworld.org)\n",
      "<br>8 :: A New Tool for Finding Dark Matter Digs Up Nothing (quantamagazine.org)\n",
      "<br>9 :: One Year with R (github.com/reecegoding)\n",
      "<br>10 :: The Code Review Pyramid (morling.dev)\n",
      "<br>11 :: Launch HN: Reality Defender (YC W22) – Deepfake Detection Platform\n",
      "<br>12 :: My guiding principles after 20 years of programming (2020) (alexewerlof.medium.com)\n",
      "<br>13 :: Show HN: BoxyHQ – open-source alternative to Auth0/WorkOS (HTTPS://boxyhq.com)\n",
      "<br>14 :: Raptor Maps (YC S16) Is Hiring a Lead DevOps Engineer for Solar Software (lever.co)\n",
      "<br>15 :: Bentō is an alive, unstable Japanese noise box by Giorgio Sancristoforo (cdm.link)\n",
      "<br>16 :: Simple electrical circuit learns on its own–with no help from a computer (science.org)\n",
      "<br>17 :: Royal Mint to build ‘world first’ plant to turn UK’s electronic waste into gold (royalmint.com)\n",
      "<br>18 :: Google Maps Hacks (2020) (simonweckert.com)\n",
      "<br>19 :: Scaling product analytics built on ClickHouse (posthog.com)\n",
      "<br>20 :: Mercedes to accept legal responsibility for a vehicle when Drive Pilot is active (roadandtrack.com)\n",
      "<br>21 :: 'Worm-on-a-chip' device could someday help diagnose lung cancer (phys.org)\n",
      "<br>22 :: Predicting Best Picture winners using coughs and sneezes (journal-doi.org)\n",
      "<br>23 :: In Praise of Memorization (pearlleff.com)\n",
      "<br>24 :: The Supreme Court just made a US-EU Privacy Shield agreement even harder (thehill.com)\n",
      "<br>25 :: Hackers claim to have breached Okta systems (twitter.com/_mg_)\n",
      "<br>26 :: Argbash: Bash argument parsing code generator (github.com/matejak)\n",
      "<br>27 :: Commodore Languages List (2021) (telarity.com)\n",
      "<br>28 :: Frogpocalypse Now (2017) (outsideonline.com)\n",
      "<br>29 :: Cloudflare have made it impossible for me to unsubscribe from marketing emails\n",
      "<br>30 :: The takeover of America's legal system (bariweiss.substack.com)\n",
      "<br>\n"
     ]
    }
   ],
   "source": [
    "#extracting Hacker News Stories\n",
    "\n",
    "url= 'https://news.ycombinator.com/'\n",
    "cnt= ''\n",
    "response = requests.get(url)\n",
    "soup = BeautifulSoup(response.content,'html.parser')\n",
    "for i,tag in enumerate(soup.find_all('td',attrs={'class':'title','valign':''})):\n",
    "    cnt += ((str(i+1)+' :: '+tag.text + \"\\n\" + '<br>') if tag.text!='More' else '')\n",
    "    #print(tag.prettify) #find_all('span',attrs={'class':'sitestr'}))\n",
    "\n",
    "print(cnt)\n",
    "    \n",
    "\n",
    "cnt += ('<br>------<br>')\n",
    "cnt +=('<br><br>End of Message')"
   ]
  },
  {
   "cell_type": "code",
   "execution_count": 15,
   "id": "14c5e7c5",
   "metadata": {},
   "outputs": [
    {
     "name": "stdout",
     "output_type": "stream",
     "text": [
      "Composing Email...\n",
      "Initiating Server...\n"
     ]
    },
    {
     "name": "stderr",
     "output_type": "stream",
     "text": [
      "send: 'ehlo [192.168.43.91]\\r\\n'\n",
      "reply: b'250-smtp.gmail.com at your service, [197.210.53.59]\\r\\n'\n",
      "reply: b'250-SIZE 35882577\\r\\n'\n",
      "reply: b'250-8BITMIME\\r\\n'\n",
      "reply: b'250-AUTH LOGIN PLAIN XOAUTH2 PLAIN-CLIENTTOKEN OAUTHBEARER XOAUTH\\r\\n'\n",
      "reply: b'250-ENHANCEDSTATUSCODES\\r\\n'\n",
      "reply: b'250-PIPELINING\\r\\n'\n",
      "reply: b'250-CHUNKING\\r\\n'\n",
      "reply: b'250 SMTPUTF8\\r\\n'\n",
      "reply: retcode (250); Msg: b'smtp.gmail.com at your service, [197.210.53.59]\\nSIZE 35882577\\n8BITMIME\\nAUTH LOGIN PLAIN XOAUTH2 PLAIN-CLIENTTOKEN OAUTHBEARER XOAUTH\\nENHANCEDSTATUSCODES\\nPIPELINING\\nCHUNKING\\nSMTPUTF8'\n",
      "send: 'AUTH PLAIN AGFyb3dvbG9vbHV3YWJ1a29sYTE0QGdtYWlsLmNvbQBhcm93b2xvLmJ1a29sYQ==\\r\\n'\n",
      "reply: b'235 2.7.0 Accepted\\r\\n'\n",
      "reply: retcode (235); Msg: b'2.7.0 Accepted'\n",
      "send: 'mail FROM:<arowolooluwabukola14@gmail.com> size=3769\\r\\n'\n",
      "reply: b'250 2.1.0 OK x3-20020a5d6b43000000b001e317fb86ecsm16582876wrw.57 - gsmtp\\r\\n'\n",
      "reply: retcode (250); Msg: b'2.1.0 OK x3-20020a5d6b43000000b001e317fb86ecsm16582876wrw.57 - gsmtp'\n",
      "send: 'rcpt TO:<arowolooluwabukola14@gmail.com>\\r\\n'\n",
      "reply: b'250 2.1.5 OK x3-20020a5d6b43000000b001e317fb86ecsm16582876wrw.57 - gsmtp\\r\\n'\n",
      "reply: retcode (250); Msg: b'2.1.5 OK x3-20020a5d6b43000000b001e317fb86ecsm16582876wrw.57 - gsmtp'\n",
      "send: 'data\\r\\n'\n",
      "reply: b'354  Go ahead x3-20020a5d6b43000000b001e317fb86ecsm16582876wrw.57 - gsmtp\\r\\n'\n",
      "reply: retcode (354); Msg: b'Go ahead x3-20020a5d6b43000000b001e317fb86ecsm16582876wrw.57 - gsmtp'\n",
      "data: (354, b'Go ahead x3-20020a5d6b43000000b001e317fb86ecsm16582876wrw.57 - gsmtp')\n",
      "send: b'Content-Type: multipart/mixed; boundary=\"===============2031297076163137857==\"\\r\\nMIME-Version: 1.0\\r\\nSubject: Top News Stories HN [Automated Email] 22-3-2022\\r\\nFrom: arowolooluwabukola14@gmail.com\\r\\nTo: arowolooluwabukola14@gmail.com\\r\\n\\r\\n--===============2031297076163137857==\\r\\nContent-Type: text/html; charset=\"utf-8\"\\r\\nMIME-Version: 1.0\\r\\nContent-Transfer-Encoding: base64\\r\\n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\\r\\n\\r\\n--===============2031297076163137857==--\\r\\n.\\r\\n'\n",
      "reply: b'250 2.0.0 OK  1647967543 x3-20020a5d6b43000000b001e317fb86ecsm16582876wrw.57 - gsmtp\\r\\n'\n",
      "reply: retcode (250); Msg: b'2.0.0 OK  1647967543 x3-20020a5d6b43000000b001e317fb86ecsm16582876wrw.57 - gsmtp'\n",
      "data: (250, b'2.0.0 OK  1647967543 x3-20020a5d6b43000000b001e317fb86ecsm16582876wrw.57 - gsmtp')\n",
      "send: 'quit\\r\\n'\n"
     ]
    },
    {
     "name": "stdout",
     "output_type": "stream",
     "text": [
      "Email Sent...\n"
     ]
    },
    {
     "name": "stderr",
     "output_type": "stream",
     "text": [
      "reply: b'221 2.0.0 closing connection x3-20020a5d6b43000000b001e317fb86ecsm16582876wrw.57 - gsmtp\\r\\n'\n",
      "reply: retcode (221); Msg: b'2.0.0 closing connection x3-20020a5d6b43000000b001e317fb86ecsm16582876wrw.57 - gsmtp'\n"
     ]
    },
    {
     "data": {
      "text/plain": [
       "(221,\n",
       " b'2.0.0 closing connection x3-20020a5d6b43000000b001e317fb86ecsm16582876wrw.57 - gsmtp')"
      ]
     },
     "execution_count": 15,
     "metadata": {},
     "output_type": "execute_result"
    }
   ],
   "source": [
    "#lets send the email\n",
    "\n",
    "print('Composing Email...')\n",
    "\n",
    "# make sure to update the Google Low App Access settings before\n",
    "\n",
    "SERVER = 'smtp.gmail.com' \n",
    "PORT = 587 # gmail port number\n",
    "FROM =  'senderemailaddress'\n",
    "TO = 'recipientemailaddress' \n",
    "PASS = 'xxxxxxxxxx' # \"senderemailaddress password\"\n",
    "\n",
    "\n",
    "msg = MIMEMultipart()\n",
    "\n",
    "msg['Subject'] = 'Top News Stories HN [Automated Email]' + ' ' + str(now.day) + '-' + str(now.month) + '-' + str(\n",
    "    now.year)\n",
    "msg['From'] = FROM\n",
    "msg['To'] = TO\n",
    "\n",
    "msg.attach(MIMEText(cnt, 'html'))\n",
    "\n",
    "print('Initiating Server...')\n",
    "\n",
    "#Note that port number for tls= 587 and ssl= 465\n",
    "#server = smtplib.SMTP(SERVER, PORT) \n",
    "server = smtplib.SMTP_SSL('smtp.gmail.com', 465)\n",
    "server.set_debuglevel(1)\n",
    "server.ehlo()\n",
    "#server.starttls()\n",
    "#server.ehlo\n",
    "server.login(FROM, PASS)\n",
    "server.sendmail(FROM, TO, msg.as_string())\n",
    "\n",
    "print('Email Sent...')\n",
    "\n",
    "server.quit()"
   ]
  },
  {
   "cell_type": "code",
   "execution_count": null,
   "id": "36ee26a4",
   "metadata": {},
   "outputs": [],
   "source": []
  }
 ],
 "metadata": {
  "kernelspec": {
   "display_name": "Python 3 (ipykernel)",
   "language": "python",
   "name": "python3"
  },
  "language_info": {
   "codemirror_mode": {
    "name": "ipython",
    "version": 3
   },
   "file_extension": ".py",
   "mimetype": "text/x-python",
   "name": "python",
   "nbconvert_exporter": "python",
   "pygments_lexer": "ipython3",
   "version": "3.9.7"
  }
 },
 "nbformat": 4,
 "nbformat_minor": 5
}
